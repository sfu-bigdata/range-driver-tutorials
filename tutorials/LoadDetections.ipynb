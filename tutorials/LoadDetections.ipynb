{
 "cells": [
  {
   "cell_type": "markdown",
   "id": "f26f35e9",
   "metadata": {},
   "source": [
    "# Load & Process Detection Events\n",
    "Once you've installed range driver, setup your configuration file, and organized your datasets (see the [installation](https://sfu-bigdata.github.io/range-driver/install.html), [configuration](SetupConfiguration.ipynb), and [data](DataSetup.ipynb) tutorials) you can load all this data into a `Detections` object. \n",
    "\n",
    "Below, is code you will have seen in the [configuration](SetupConfiguration.ipynb) tutorial. This takes care of loading the configuration into Python."
   ]
  },
  {
   "cell_type": "code",
   "execution_count": null,
   "id": "a42a232c",
   "metadata": {},
   "outputs": [],
   "source": [
    "import range_driver as rd\n",
    "\n",
    "# Load raw configuration\n",
    "config = rd.yload(rd.load_file(\"path/to/example_config.yaml\"))\n",
    "\n",
    "# Prepare (and update) config for range_driver\n",
    "rd.prepare_config(config)"
   ]
  },
  {
   "cell_type": "markdown",
   "id": "0483a166",
   "metadata": {},
   "source": [
    "## Loading Detection Events\n",
    "Once the configuration is ready to be used, you can use range driver to create a `Detections` object. This object holds all the information related to the detection events, including the metadata and environmental data specified in your configuration file. "
   ]
  },
  {
   "cell_type": "code",
   "execution_count": null,
   "id": "ec885bf6",
   "metadata": {},
   "outputs": [],
   "source": [
    "dets = rd.Detections(config=config)"
   ]
  },
  {
   "cell_type": "markdown",
   "id": "86ed5f1c",
   "metadata": {},
   "source": [
    "Once this object has been instantiated you can view the raw detections data as a `DataFrame`. "
   ]
  },
  {
   "cell_type": "code",
   "execution_count": null,
   "id": "8add1ab1",
   "metadata": {},
   "outputs": [],
   "source": [
    "dets.detection_events_df.head(5)"
   ]
  },
  {
   "cell_type": "markdown",
   "id": "785c7d43",
   "metadata": {},
   "source": [
    "## Behind the Scenes of the `Detections` Object\n",
    "The simple loading procedure above will suffice for almost all cases. However, for others it will be important to customize the process. If you're interesting in learning more about what happens behind the scenes when the `Detections` object is created, checkout the remaining sections in this tutorial. Otherwise, feel free to go directly to the [data visualization & EDA](DataVisualizationEDA.ipynb) tutorial."
   ]
  },
  {
   "cell_type": "markdown",
   "id": "ed62fd68",
   "metadata": {},
   "source": [
    "By default, the instantiation of the detections object performs a number of processing tasks. Whether or not these processing steps are done is determined by the `do_processing` argument (defaults to `True`). "
   ]
  },
  {
   "cell_type": "code",
   "execution_count": null,
   "id": "05f2162a",
   "metadata": {},
   "outputs": [],
   "source": [
    "dets = rd.Detections(config=config, do_processing=False)"
   ]
  },
  {
   "cell_type": "markdown",
   "id": "9fe7b9c7",
   "metadata": {},
   "source": [
    "But what does this \"processing\" step actually involve?"
   ]
  },
  {
   "cell_type": "markdown",
   "id": "d1500443",
   "metadata": {},
   "source": [
    "### Calculate Detection Rate\n",
    "The first thing that happens is that detection rates are calculated from the detection data loaded from the configuration file. Detection rates are the portion of expected detections that actually occurred during a particular time period. "
   ]
  },
  {
   "cell_type": "code",
   "execution_count": null,
   "id": "b5ba91a2",
   "metadata": {},
   "outputs": [],
   "source": [
    "dets.make_detection_rate()  # Calculate detection interval lengths and split out init sequences\n",
    "                            # Group detections into timestamp bins and analyze the detections on a group-level. \n",
    "                            # Append aggregated bin data to the end of the detections DF."
   ]
  },
  {
   "cell_type": "markdown",
   "id": "9c14ccfb",
   "metadata": {},
   "source": [
    "This is calculated over a few steps: \n",
    "1. First detections are examined to find whether an \"initial sequence\" exists. Often, a series of very frequent detections are observed at the very start of a range test. These are part of an \"initial sequence\" used during testing/setup. If these detections are found, they are split out and put into `dets.df_inits`.   \n",
    "\n",
    "2. Next, detections are grouped into timestamp bins, as specified in the configuration file.   \n",
    "\n",
    "3. Using these time-bins a detection rate is calculated. This rate corresponds to the percentage of expected detections which were actually observed.  Expected detections are calculated based on the tag interval defined in the metadata. For example, if the average interval for a transmitter was 2 minutes and the time period was 30 minutes, we would expect 15 detections during that time period.   \n",
    "\n",
    "4. Finally, this time-binned data & detection rates are appended to the end of the `dets.detection_df` DataFrame. The first index that contains this binned data is tracked in `self.event_bin_split`.\n"
   ]
  },
  {
   "cell_type": "markdown",
   "id": "92ccadef",
   "metadata": {},
   "source": [
    "### Creates two views of the data (event vs bins)\n",
    "Next, two separate views of the data are created. In addition to the event-based view of the data we have already seen (each row in the `DataFrame` is a detection event) a time-binned view of the data is also created. \n",
    "\n",
    "This allows us to acceses either view independently. No need to even think about `self.event_bin_split` anymore."
   ]
  },
  {
   "cell_type": "code",
   "execution_count": null,
   "id": "6384b9a0",
   "metadata": {},
   "outputs": [],
   "source": [
    "dets.events_df, dets.bins_df = dets.get_events_bins(dets.detection_df)"
   ]
  },
  {
   "cell_type": "markdown",
   "id": "b9f9e21d",
   "metadata": {},
   "source": [
    "In this binned view each row in the `DataFrame` corresponds to a time period where a receiver/transmitter pair was expected to have detections (the length of which is specified in the configuration file). Usually, these bins are large enough that multiple detection events are contained within each bin. \n",
    "\n",
    "Since there is often a need for both the event-based and binned views of the data, we provide both. They can be accessed using the following `Detections` attributes: "
   ]
  },
  {
   "cell_type": "code",
   "execution_count": null,
   "id": "1fd30fc5",
   "metadata": {},
   "outputs": [],
   "source": [
    "# Event-based\n",
    "dets.events_df\n",
    "\n",
    "# Time-binned\n",
    "dets.bins_df"
   ]
  },
  {
   "cell_type": "markdown",
   "id": "879128c7",
   "metadata": {},
   "source": [
    "### Discovers the Receiver-Transmitter Groups\n",
    "The next task in default processing is to create receiver-transmitter groups. This means that each group contains detections pertaining to a single receiver and a single transmitter. "
   ]
  },
  {
   "cell_type": "code",
   "execution_count": null,
   "id": "7b19af00",
   "metadata": {},
   "outputs": [],
   "source": [
    "dets.prepare_rt_groups()"
   ]
  },
  {
   "cell_type": "markdown",
   "id": "3175fa2a",
   "metadata": {},
   "source": [
    "These groups can be used during visualization and analyses to compare behaviour between receiver/transmitter pairs. They are stored in `dets.mdb.rt_groups`. "
   ]
  },
  {
   "cell_type": "markdown",
   "id": "f2b9386d",
   "metadata": {},
   "source": [
    "Additionally, distances between all receiver & transmitter stations are calculated and stored in `dets.mdb.station_dists_m`. "
   ]
  },
  {
   "cell_type": "code",
   "execution_count": null,
   "id": "80119793",
   "metadata": {},
   "outputs": [],
   "source": [
    "dets.mdb.station_dists_m"
   ]
  },
  {
   "cell_type": "markdown",
   "id": "f92ac778",
   "metadata": {},
   "source": [
    "### Adds Environmental Data\n",
    "Next, comes the addition of environmental data to the detection DataFrames. By connecting environmental data with detections data you can begin to examine the correlations betweeen environmental conditions like wind, salinity, or bottom type and detection performance. "
   ]
  },
  {
   "cell_type": "markdown",
   "id": "9599796e",
   "metadata": {},
   "source": [
    "#### Environmental data from kadlu\n",
    "The first environmental data that is loaded during processing comes from the [Kadlu](https://docs.meridian.cs.dal.ca/kadlu/) Python package. Provided you have specified kadlu data variables and sources in your configuration file, data from kadlu is automatically fetched from online data repositories (provided you haven't retrieved that specific data before), save it to a local database, and then interpolated & merged with detection data. "
   ]
  },
  {
   "cell_type": "code",
   "execution_count": null,
   "id": "fea8e4a6",
   "metadata": {},
   "outputs": [],
   "source": [
    "dets.add_env_data()"
   ]
  },
  {
   "cell_type": "markdown",
   "id": "23726102",
   "metadata": {},
   "source": [
    "#### Custom Environmental Data\n",
    "Next, environmental data from custom data sources is merged with detections data. This data should be specified under the configuration file's `file_map` key and provided as a compatible filetype (e.g. NetCDF). This data is loaded from file, interpolated, and merged with the detections data. "
   ]
  },
  {
   "cell_type": "code",
   "execution_count": null,
   "id": "92d5c5e3",
   "metadata": {},
   "outputs": [],
   "source": [
    "dets.add_custom_data()"
   ]
  },
  {
   "cell_type": "markdown",
   "id": "613f5fb2",
   "metadata": {},
   "source": [
    "#### Tidal Data\n",
    "The third kind of environmental data that is added is tidal data. If a `tidal` entry has been defined in your configuration file than the tidal data will be loaded and tidal height & phase will be interpolated and merged into the detections DataFrame. "
   ]
  },
  {
   "cell_type": "code",
   "execution_count": null,
   "id": "232df378",
   "metadata": {},
   "outputs": [],
   "source": [
    "dets.add_tidal_data()"
   ]
  },
  {
   "cell_type": "markdown",
   "id": "f61fb73d",
   "metadata": {},
   "source": [
    "#### Calculated Columns\n",
    "Finally, any \"calculated columns\" specified in your configuration file are calculated and merged into the detections data."
   ]
  },
  {
   "cell_type": "code",
   "execution_count": null,
   "id": "f5e2c5d7",
   "metadata": {},
   "outputs": [],
   "source": [
    "dets.add_calculated_columns()"
   ]
  },
  {
   "cell_type": "markdown",
   "id": "9fdb22aa",
   "metadata": {},
   "source": [
    "### Prepare Data\n",
    "Finally, the data is prepared for uses like analysis and visualization. There are two components to this step. \n",
    "\n",
    "First, the merged data (detections + environmental data) is split into event-based and binned-based views (similar to what happens in step 2 of processing). These views are saved in `dets.detection_events_df` and `dets.detection_bins_df`. "
   ]
  },
  {
   "cell_type": "code",
   "execution_count": null,
   "id": "c57c61e0",
   "metadata": {},
   "outputs": [],
   "source": [
    "# Events\n",
    "dets.detection_events_df\n",
    "\n",
    "# Time Bins\n",
    "dets.detection_bins_df"
   ]
  },
  {
   "cell_type": "markdown",
   "id": "1995dde3",
   "metadata": {},
   "source": [
    "Second, the merged data is grouped into groups according to receiver/transmitter pairs. These groups are stored in a list, accessible via `dets.rt_group_detections`."
   ]
  },
  {
   "cell_type": "code",
   "execution_count": null,
   "id": "c6020606",
   "metadata": {},
   "outputs": [],
   "source": [
    "dets.rt_group_detections"
   ]
  }
 ],
 "metadata": {
  "kernelspec": {
   "display_name": "Python 3",
   "language": "python",
   "name": "python3"
  },
  "language_info": {
   "codemirror_mode": {
    "name": "ipython",
    "version": 3
   },
   "file_extension": ".py",
   "mimetype": "text/x-python",
   "name": "python",
   "nbconvert_exporter": "python",
   "pygments_lexer": "ipython3",
   "version": "3.8.8"
  }
 },
 "nbformat": 4,
 "nbformat_minor": 5
}
