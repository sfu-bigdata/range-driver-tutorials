{
 "cells": [
  {
   "cell_type": "markdown",
   "id": "9df3e1c5",
   "metadata": {},
   "source": [
    "# Data Setup\n",
    "Range Driver was created to help users better understand and analyze the data collected during acoustic range tests. Critically, this data needs to made available to range_driver in files which follow specific types and formats. \n",
    "\n",
    "\n",
    "## Organization\n",
    "We recommend placing all the data files relevant for a specific range test in a single `data` folder. This folder can contain sub-directories to further organize the data. For example, we use the following folder structure for one of our range tests.\n",
    "```\n",
    "data\n",
    " |\n",
    " +-- detections.csv\n",
    " +-- tag_metadata.xlsx\n",
    " +-- EnvironmentalData\n",
    " |    |\n",
    " |    +-- salinity.nc\n",
    " |    +-- temperature.nc\n",
    " |    +-- turbidity.nc \n",
    "```"
   ]
  },
  {
   "cell_type": "markdown",
   "id": "a9dc0ec5",
   "metadata": {},
   "source": [
    "## Data\n",
    "There are three main kinds of data users should provide to range_driver.   \n",
    "\n",
    "|                                   |                         |\n",
    "|-----------------------------------|:------------------------|\n",
    "| [Detection event data](#event)    | The tabular dataset (typically Excel) containing event-specific information <br/> (datetime, receiver, transmitter, etc) from the range test.|\n",
    "| [Metadata](#meta)                 | Metadata specific to the range test of interest, including vendor tag and <br/> deployment information. |\n",
    "| [Environmental data](#env)        | Environmental data sets for contextualizing and analyzing differences in <br/> detection performance. |"
   ]
  },
  {
   "cell_type": "markdown",
   "id": "64d5c9e4",
   "metadata": {},
   "source": [
    "### Detection Event Data<a id=\"event\"></a>\n",
    "\n",
    "Detection event data is stored in a CSV file that is fed into range_driver. The location of this file is specified using the `detections_csv` key which resides under the `reader` key in the configuration file. As discussed in the [configuration tutorial](), there are currently two readers supported by range_driver. However, custom readers can be specified. \n",
    "\n",
    "Both of the current readers expect tabular detection event data, where each row in the file corresponds to a single detection recorded by a deployed receiver. Depending on the reader you are using, slightly different data is required in these files.\n",
    "\n",
    "#### `otn`\n",
    "When using the `otn` reader, the following columns are required in the detections file:\n",
    "* `Date and Time (UTC)` &mdash; The date and time a detection was recorded (e.g. `2016-03-09 13:25:33`) \n",
    "* `Receiver` &mdash; The receiver string specifying both the type of receiver and its ID (e.g. `VR4-UWM-250473)\n",
    "* `Transmitter` &mdash; The transmitter string specifying both the type of transmitter and its ID (e.g. `A69-1601-31341`)\n",
    "\n",
    "#### `nsog`\n",
    "When using the `nsog` reader, many more columns are required (this is because much of the metadata is actually contained within the detections file). \n",
    "* `datecollected` &mdash; The date and time a detection was recorded (e.g. `2016-03-09 13:25:33`) \n",
    "* `rcvrcatnumber` &mdash; The catalog number for the receiver (e.g. `VR4-UWM`).\n",
    "* `collectornumber` &mdash; The receiver's ID number (e.g. `250473`).\n",
    "* `catalognumber` &mdash; The transmitter string specifying the type of transmitter and it's ID (e.g. `A69-1601-31341`).\n",
    "* `station` &mdash; The station where the receiver was deployed (e.g. `NSOG011P`).\n",
    "* `latitude` &mdash; The latitude of the receiver (e.g. `48.333210`).\n",
    "* `longitude` &mdash; The longitude of the receiveer (e.g. `-123.979820`).\n",
    "* `bottom_depth` &mdash; The bottom depth (in meters) where the receiver was placed.\n",
    "* `receiver_depth` &mdash; The depth (in meters) of the receiver.\n"
   ]
  },
  {
   "cell_type": "markdown",
   "id": "15cf020f",
   "metadata": {},
   "source": [
    "### Metadata<a id=\"meta\"></a>\n",
    "There are two kinds of metadata that can be provided to range_driver. Which metadata you need to provide depends on the reader you are using (as specified in your configuration file). \n",
    "\n",
    "#### Tag Metadata\n",
    "Both the `otn` and `nsog` readers require users to provide tag metadata using the `vender_tag_specs` key in the configuration file. This Excel provides information about the transmitter tags (e.g. power levels and expected detection delays).\n",
    "\n",
    "The `vender_tag_specs` Excel file requires the following columns:\n",
    "* `Tag Family` &mdash; The family of tags the transmitter belongs to.\n",
    "* `ID Code` &mdash; The transmitter's ID number.\n",
    "* `VUE Tag ID\\n(Freq-Space-ID)`&mdash; The transmitter's VUE tag ID. Formatted as Freq-Space-ID.\n",
    "* `Power\\n(L/H)` &mdash; The transmitter's power level.\n",
    "* `Min \\n(sec)` &mdash; The transmitter's minimum delay.\n",
    "* `Max \\n(sec)` &mdash; The transmitter's maximum delay.\n",
    "\n",
    "#### OTN Metadata\n",
    "Only the `otn` reader requires users to provide additional metadata using the `otn_metadata` key in the configuration file. This Excel file provides deployment information specific to the range test being analyzed. The columns required in this spreadsheet are: \n",
    "\n",
    "* `INS_SERIAL_NO` &mdash; The deployed receiver's serial number (aka ID).\n",
    "* `DEPLOY_LAT` &mdash; The latitude at which the receiver was deployed.\n",
    "* `DEPLOY_LONG` &mdash; The longitude at which the receiver was deployed.\n",
    "* `INSTRUMENT_DEPTH` &mdash; The depth at which the receiver was deployed.\n",
    "* `BOTTOM_DEPTH` &mdash; The bottom depth at the location where the receiver was deployed."
   ]
  },
  {
   "cell_type": "markdown",
   "id": "0d4782e0",
   "metadata": {},
   "source": [
    "### Environmental Data<a id=\"meta\"></a>\n",
    "\n",
    "Finally, environmental data can either be provided in NetCDF format or, for specific environmental variables, can be automatically fetched using range_driver and kadlu. This environmental data is interpolated to approximate environmental conditions at the time and location when a detection (or set of detections) are received. t\n",
    "\n",
    "#### NetCDF\n",
    "Often, users will want to incorporate environmental data from sources that aren't supported by kadlu. These custom environmental datasets should be provided as a NetCDF file. To provide environmental data in this way, make sure the NetCDF file contains the environmental variable of interest along with `lat`, `lon`, and `time` data. Optionally, `depth` can also be included. `lat`, `lon`, `time`, and `depth` (if included) are the axes used for interpolation. \n",
    "\n",
    "The `file_map` configuration key is used to specify which NetCDF files contain which environmental variables. The key (e.g. `uVelocity`) should correspond _exactly_ to the variable name within the NetCDF file. An example of how environmental data from NetCDFs can be specified is below:\n",
    "\n",
    "```yaml\n",
    "file_map:\n",
    "  data_dir: '{repo_path}/data/NSOG_Jan2018/SalishSeaCast'\n",
    "  uVelocity: uVelocity_2018-01-01_2018-02-01.nc\n",
    "  vVelocity: vVelocity_2018-01-01_2018-02-01.nc\n",
    "  wVelocity: wVelocity_2018-01-01_2018-02-01.nc\n",
    "  salinity: salinity_2018-01-01_2018-02-01.nc\n",
    "  temperature: temperature_2018-01-01_2018-02-01.nc\n",
    "  fraserTurbidity: fraserTurbidity_2018-01-01_2018-02-01.nc\n",
    "```\n",
    "\n",
    "#### Fetching w/ kadlu\n",
    "Certain environmental variables can be fetched using kadlu. To determine which variables (and data sources) are available, check out the [kadlu documentation](https://docs.meridian.cs.dal.ca/kadlu/introduction.html) or `print(kadlu.source_map)`.\n",
    "\n",
    "If you identify environmental variables to fetch from kadlu, use the `data` configuration key to specify the variables & which source they should be fetched from. For example:\n",
    "\n",
    "```yaml\n",
    "data:\n",
    "  sources:\n",
    "    load_wavedir: 'era5'\n",
    "    load_waveheight: 'era5'\n",
    "    load_waveperiod: 'era5'\n",
    "    load_wind_uv: 'era5'\n",
    "    load_wind_u: 'era5'\n",
    "    load_wind_v: 'era5'\n",
    "```"
   ]
  }
 ],
 "metadata": {
  "kernelspec": {
   "display_name": "Python 3",
   "language": "python",
   "name": "python3"
  },
  "language_info": {
   "codemirror_mode": {
    "name": "ipython",
    "version": 3
   },
   "file_extension": ".py",
   "mimetype": "text/x-python",
   "name": "python",
   "nbconvert_exporter": "python",
   "pygments_lexer": "ipython3",
   "version": "3.8.8"
  }
 },
 "nbformat": 4,
 "nbformat_minor": 5
}
